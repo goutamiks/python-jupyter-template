{
 "cells": [
  {
   "cell_type": "markdown",
   "metadata": {},
   "source": [
    "### Exercise 5: Subplot Layout"
   ]
  },
  {
   "cell_type": "code",
   "execution_count": null,
   "metadata": {},
   "outputs": [],
   "source": [
    "# TASK: Create a 2x2 subplot layout.\n",
    "# Plot a line chart in the first subplot, a bar chart in the second, a scatter plot in the third, and a pie chart in the fourth.\n",
    "# Data\n",
    "import matplotlib.pyplot as plt\n",
    "x = [0, 1, 2, 3, 4]\n",
    "y = [0, 1, 4, 9, 16]\n",
    "categories = ['A', 'B', 'C', 'D']\n",
    "values = [5, 3, 9, 6]\n",
    "labels = ['Apple', 'Banana', 'Cherry', 'Date']\n",
    "sizes = [10, 15, 7, 5]\n",
    "\n",
    "# Create a 2x2 grid of subplots\n",
    "fig, axs = plt.subplots(2, 2, figsize=(10, 10))\n",
    "\n",
    "# First subplot: Line plot\n",
    "axs[0, 0].plot(x, y)\n",
    "axs[0, 0].set_title('Line Plot')\n",
    "\n",
    "# Second subplot: Bar plot\n",
    "axs[0, 1].bar(categories, values)\n",
    "axs[0, 1].set_title('Bar Plot')\n",
    "\n",
    "# Third subplot: Scatter plot\n",
    "axs[1, 0].scatter(x, y)\n",
    "axs[1, 0].set_title('Scatter Plot')\n",
    "\n",
    "# Fourth subplot: Pie chart\n",
    "axs[1, 1].pie(sizes, labels=labels, autopct='%1.1f%%')\n",
    "axs[1, 1].set_title('Pie Chart')\n",
    "\n",
    "# Show the plots\n",
    "plt.show()"
   ]
  }
 ],
 "metadata": {
  "language_info": {
   "name": "python"
  }
 },
 "nbformat": 4,
 "nbformat_minor": 2
}
